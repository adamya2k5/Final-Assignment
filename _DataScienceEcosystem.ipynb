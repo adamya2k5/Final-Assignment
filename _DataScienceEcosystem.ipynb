{
 "cells": [
  {
   "cell_type": "markdown",
   "id": "36a90b67-4e4f-455b-bffc-29bba33a5da6",
   "metadata": {},
   "source": [
    "# Data Science Tools and Ecosystem"
   ]
  },
  {
   "cell_type": "markdown",
   "id": "67158a15-4467-4a4b-8c79-a0564616c258",
   "metadata": {},
   "source": [
    "In this notebook, Data Science Tools and Ecosystem are summarized."
   ]
  },
  {
   "cell_type": "markdown",
   "id": "4cf459f9-2f26-483d-bd5f-905227dd3946",
   "metadata": {},
   "source": [
    "**Objectives:**\n",
    "* Languages used by Data Scientists\n",
    "* Libraries used by Data Scientists\n",
    "* Data Science Tools"
   ]
  },
  {
   "cell_type": "markdown",
   "id": "b3690071-8277-4d52-8be2-c916bbb7b4c2",
   "metadata": {},
   "source": [
    "Some of the popular languages that Data Scientists use are:\n",
    "1. Python\n",
    "1. R programming\n",
    "1. SQL\n",
    "1. Java\n",
    "1. C++\n",
    "1. Julia"
   ]
  },
  {
   "cell_type": "markdown",
   "id": "965beed2-b708-487b-991f-053f6f7645d5",
   "metadata": {
    "tags": []
   },
   "source": [
    "Some of the commonly used libraries used by Data Scientists include:\n",
    "1. Pandas (Scinetific Computing)\n",
    "1. NumPy (Scientific Computing)\n",
    "1. Matplotlib (Visualization)\n",
    "1. Scikit Learn (Machine Learning)\n",
    "1. TensorFlow (Deep Learning)"
   ]
  },
  {
   "cell_type": "markdown",
   "id": "6d0c1883-04dd-41cd-a5f7-1e8276c38abf",
   "metadata": {},
   "source": [
    "|Data Science Tools |\n",
    "|:------------------|\n",
    "|My SQL |\n",
    "|Apache Airflow |\n",
    "|GitHub |\n",
    "|R Studio |"
   ]
  },
  {
   "cell_type": "markdown",
   "id": "56e6f522-571c-4c93-a640-2ed88fe5f19a",
   "metadata": {
    "tags": []
   },
   "source": [
    "### Below are a few examples of evaluating arithmetic expressions in Python"
   ]
  },
  {
   "cell_type": "code",
   "execution_count": 8,
   "id": "089f65ca-f329-4450-89fe-929293f3afd9",
   "metadata": {
    "tags": []
   },
   "outputs": [
    {
     "data": {
      "text/plain": [
       "17"
      ]
     },
     "execution_count": 8,
     "metadata": {},
     "output_type": "execute_result"
    }
   ],
   "source": [
    "# This a simple arithmetic expression to mutiply then add integers\n",
    "(3*4)+5"
   ]
  },
  {
   "cell_type": "code",
   "execution_count": 15,
   "id": "71c87565-773b-46ef-a985-0dac7869a432",
   "metadata": {
    "tags": []
   },
   "outputs": [
    {
     "data": {
      "text/plain": [
       "3.3333333333333335"
      ]
     },
     "execution_count": 15,
     "metadata": {},
     "output_type": "execute_result"
    }
   ],
   "source": [
    "# This will convert 200 minutes to hours by diving by 60\n",
    "200/60 "
   ]
  },
  {
   "cell_type": "markdown",
   "id": "8c4b352d-1e8c-4aac-9cd0-7ed2237b36b8",
   "metadata": {},
   "source": [
    "## Author\n",
    "Adamya"
   ]
  }
 ],
 "metadata": {
  "kernelspec": {
   "display_name": "Python 3 (ipykernel)",
   "language": "python",
   "name": "python3"
  },
  "language_info": {
   "codemirror_mode": {
    "name": "ipython",
    "version": 3
   },
   "file_extension": ".py",
   "mimetype": "text/x-python",
   "name": "python",
   "nbconvert_exporter": "python",
   "pygments_lexer": "ipython3",
   "version": "3.11.5"
  }
 },
 "nbformat": 4,
 "nbformat_minor": 5
}
